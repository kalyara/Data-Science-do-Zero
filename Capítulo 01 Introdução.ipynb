{
 "cells": [
  {
   "cell_type": "markdown",
   "id": "9dae39c5",
   "metadata": {},
   "source": [
    "# Motivação Hipotética: DataSciencester\n",
    "\n",
    "### Encontrando Conectores-Chave"
   ]
  },
  {
   "cell_type": "code",
   "execution_count": null,
   "id": "317951c0",
   "metadata": {},
   "outputs": [],
   "source": [
    "users =[\n",
    "    {\"id\": 0, \"name\": \"Hero\"},\n",
    "    {\"id\": 1, \"name\": \"Dunn\"},\n",
    "    {\"id\": 2, \"name\": \"Sue\"},\n",
    "    {\"id\": 3, \"name\": \"Chi\"},\n",
    "    {\"id\": 4, \"name\": \"Thor\"},\n",
    "    {\"id\": 5, \"name\": \"Clive\"},\n",
    "    {\"id\": 6, \"name\": \"Hicks\"},\n",
    "    {\"id\": 7, \"name\": \"Devin\"},\n",
    "    {\"id\": 8, \"name\": \"Kate\"},\n",
    "    {\"id\": 9, \"name\": \"Klein\"},\n",
    "]"
   ]
  },
  {
   "cell_type": "code",
   "execution_count": 3,
   "id": "af1957d1",
   "metadata": {},
   "outputs": [],
   "source": [
    "friendship_pairs = [(0, 1), (0, 2), (1, 2), (1, 3), (2, 3), (3, 4), (4, 5), (5, 6), (5, 7), (6, 8), (7, 8), (8, 9)]"
   ]
  },
  {
   "cell_type": "code",
   "execution_count": 4,
   "id": "eef9448a",
   "metadata": {},
   "outputs": [],
   "source": [
    "# Inicialize o dict com uma lista vazia para cada id de usuário:\n",
    "friendships = {user[\"id\"]: [] for user in users}"
   ]
  },
  {
   "cell_type": "code",
   "execution_count": 5,
   "id": "a0cefa0b",
   "metadata": {},
   "outputs": [],
   "source": [
    "# Em seguida, execute um loop pelos pares de amigos para preenchê-la:\n",
    "for i, j in friendship_pairs:\n",
    "    friendships[i].append(j) # adicione j como amigo do usuário i\n",
    "    friendships[j].append(i) # adicione i como amigo do usuário j"
   ]
  },
  {
   "cell_type": "code",
   "execution_count": 6,
   "id": "11eaaf7a",
   "metadata": {},
   "outputs": [
    {
     "data": {
      "text/plain": [
       "24"
      ]
     },
     "execution_count": 6,
     "metadata": {},
     "output_type": "execute_result"
    }
   ],
   "source": [
    "def number_of_friends(user):\n",
    "    # Quantos amigos tem o _user_?\n",
    "    user_id = user[\"id\"]\n",
    "    friend_ids = friendships[user_id]\n",
    "    return len(friend_ids)\n",
    "\n",
    "total_connections = sum(number_of_friends(user) for user in users)\n",
    "total_connections "
   ]
  },
  {
   "cell_type": "code",
   "execution_count": 7,
   "id": "b1032477",
   "metadata": {},
   "outputs": [
    {
     "data": {
      "text/plain": [
       "2.4"
      ]
     },
     "execution_count": 7,
     "metadata": {},
     "output_type": "execute_result"
    }
   ],
   "source": [
    "num_users = len(users) # tamanho da lista de usuários\n",
    "avg_connections = total_connections/num_users \n",
    "avg_connections"
   ]
  },
  {
   "cell_type": "code",
   "execution_count": 8,
   "id": "9840250d",
   "metadata": {},
   "outputs": [
    {
     "data": {
      "text/plain": [
       "[(1, 3),\n",
       " (2, 3),\n",
       " (3, 3),\n",
       " (5, 3),\n",
       " (8, 3),\n",
       " (0, 2),\n",
       " (4, 2),\n",
       " (6, 2),\n",
       " (7, 2),\n",
       " (9, 1)]"
      ]
     },
     "execution_count": 8,
     "metadata": {},
     "output_type": "execute_result"
    }
   ],
   "source": [
    "# Crie uma lista (user_id, number_of_friends).\n",
    "num_friends_by_id = [(user[\"id\"], number_of_friends(user)) for user in users]\n",
    "\n",
    "num_friends_by_id.sort(\n",
    "key=lambda id_and_friends: id_and_friends[1],\n",
    "reverse = True) # classifica a lista por número de amigos, do maior para o menor\n",
    "\n",
    "num_friends_by_id # métrica de centralidade de grau: identifica as pessoas que são centrais para a rede"
   ]
  },
  {
   "cell_type": "markdown",
   "id": "86a5c1d1",
   "metadata": {},
   "source": [
    "# Cientistas de dados que você talvez conheça\n",
    "\n",
    "### Os usuários podem conhecer os amigos dos seus amigos. Código para iterar os amigos e coletar os amigos dos amigos:"
   ]
  },
  {
   "cell_type": "code",
   "execution_count": 9,
   "id": "7cb752b4",
   "metadata": {},
   "outputs": [
    {
     "data": {
      "text/plain": [
       "[0, 2, 3, 0, 1, 3]"
      ]
     },
     "execution_count": 9,
     "metadata": {},
     "output_type": "execute_result"
    }
   ],
   "source": [
    "def foaf_ids_bad(user):\n",
    "    # foaf significa \"friend of a friend\" (amigo de um amigos)\n",
    "    return [foaf_id\n",
    "           for friend_id in friendships[user[\"id\"]]\n",
    "           for foaf_id in friendships[friend_id]]\n",
    "\n",
    "foaf_ids_bad(users[0]) "
   ]
  },
  {
   "cell_type": "markdown",
   "id": "8b94cc84",
   "metadata": {},
   "source": [
    "O resultado traz o usuário 0 duas vezes, pois o id 0 é amigo dos seus amigos. Também traz os usuários 1 e 2, apesar de eles já serem amigos do id 0. E traz o usuário id 3 duas vezes, pois id 3  é acessível por meio de dois amigos:"
   ]
  },
  {
   "cell_type": "code",
   "execution_count": 10,
   "id": "e48f15f3",
   "metadata": {},
   "outputs": [
    {
     "name": "stdout",
     "output_type": "stream",
     "text": [
      "[1, 2]\n",
      "[0, 2, 3]\n",
      "[0, 1, 3]\n"
     ]
    }
   ],
   "source": [
    "print(friendships[0])\n",
    "print(friendships[1])\n",
    "print(friendships[2])"
   ]
  },
  {
   "cell_type": "markdown",
   "id": "e11746dd",
   "metadata": {},
   "source": [
    "Gerar uma contagem de amigos em comum, porém excluindo as pessoas que o usuário já conhece:"
   ]
  },
  {
   "cell_type": "code",
   "execution_count": 11,
   "id": "fdad61e6",
   "metadata": {},
   "outputs": [
    {
     "name": "stdout",
     "output_type": "stream",
     "text": [
      "Counter({0: 2, 5: 1})\n",
      "Counter({7: 2, 4: 1, 9: 1})\n"
     ]
    }
   ],
   "source": [
    "from collections import Counter # não é carregado por padrão\n",
    "\n",
    "def friends_of_friends(user):\n",
    "    user_id = user[\"id\"]\n",
    "    return Counter(\n",
    "        foaf_id\n",
    "        for friend_id in friendships[user_id]\n",
    "        for foaf_id in friendships[friend_id]\n",
    "        if foaf_id != user_id\n",
    "        and foaf_id not in friendships[user_id]\n",
    "    )\n",
    "\n",
    "# para cada amigo meu, encontre os amigos deles que não sejam eu e não sejam meus amigos.\n",
    "\n",
    "print(friends_of_friends(users[3]))\n",
    "\n",
    "# essa operação informa corretamente a Chi (id 3) que ela possui dois amigos em comum com Hero (id 0 ), mas só um amigo em comum\n",
    "# com Clive (id 5)\n",
    "\n",
    "# outro exemplo\n",
    "# usuário Clive (id 6)\n",
    "print(friends_of_friends(users[6]))\n",
    "# o usuário 6 não é amigo do usuário 7 porém eles tem dois amigos em comum, o usuário 6 não é amigo do usuário 4 porém eles tem\n",
    "# um amigo em comum, o usuário 6 não é amigo do usuário 9 porém eles tem um amigo em comum"
   ]
  },
  {
   "cell_type": "markdown",
   "id": "77575073",
   "metadata": {},
   "source": [
    "Encontrar usuários com interesses similares"
   ]
  },
  {
   "cell_type": "code",
   "execution_count": 12,
   "id": "2ff228d1",
   "metadata": {},
   "outputs": [],
   "source": [
    "interests = [\n",
    "    (0, \"Hadoop\"), (0, \"Big Data\"), (0, \"HBase\"), (0, \"Java\"),\n",
    "    (0, \"Spark\"), (0, \"Storm\"), (0, \"Cassandra\"),\n",
    "    (1, \"NoSQL\"), (1, \"MongoDB\"), (1, \"Cassandra\"), (1, \"HBase\"),\n",
    "    (1, \"Postgres\"), (2, \"Python\"), (2, \"scikit-learn\"), (2, \"scipy\"),\n",
    "    (2, \"numpy\"), (2, \"statsmodels\"), (2, \"pandas\"), (3, \"R\"), (3, \"Python\"),\n",
    "    (3, \"Statistics\"), (3, \"regression\"), (3, \"probability\"),\n",
    "    (4, \"machine learning\"), (4, \"regression\"), (4, \"decision trees\"),\n",
    "    (4, \"libsvm\"), (5, \"Python\"), (5, \"R\"), (5, \"Java\"), (5, \"C++\"),\n",
    "    (5, \"Haskell\"), (5, \"programming languages\"), (6, \"statistics\"),\n",
    "    (6, \"probability\"), (6, \"mathematics\"), (6, \"theory\"),\n",
    "    (7, \"machine learning\"), (7, \"scikit-learn\"), (7, \"Mahout\"),\n",
    "    (7, \"neural networks\"), (8, \"neural networks\"), (8, \"deep learning\"),\n",
    "    (8, \"Big Data\"), (8, \"artificial intelligence\"), (9, \"Hadoop\"),\n",
    "    (9, \"Java\"), (9, \"MapReduce\"), (9, \"Big Data\")\n",
    "]\n",
    "\n"
   ]
  },
  {
   "cell_type": "code",
   "execution_count": 13,
   "id": "fa6009bb",
   "metadata": {},
   "outputs": [],
   "source": [
    "# função para encontrar usuários com o mesmo interesse\n",
    "def data_scientists_who_like(target_interest):\n",
    "    # encontre os ids dos usuários com o mesmo interesse.\n",
    "    return[user_id\n",
    "          for user_id, user_interest in interests\n",
    "          if user_interest == target_interest]\n",
    "\n",
    "\n",
    "# A operação funciona, porém tem que examinar a lista de interesses inteira a cada busca"
   ]
  },
  {
   "cell_type": "code",
   "execution_count": 22,
   "id": "f8a2d17f",
   "metadata": {},
   "outputs": [],
   "source": [
    "# Construir um índice de interesses para usuários:\n",
    "\n",
    "from collections import defaultdict\n",
    "# A biblioteca collections do Python é um módulo da biblioteca padrão que fornece estruturas\n",
    "# de dados adicionais além das nativas(list, dict, set, etc). Ela é super útil\n",
    "# quando você quer escrever código mais limpo e eficiente.\n",
    "\n",
    "# defaultdict = um dicionário com valor padrão para chaves inexistentes(evita keyError)\n",
    "\n",
    "# As chaves são interesses, os valores são listas de user_ids com o interesse em questão\n",
    "user_ids_by_interest = defaultdict(list)\n",
    "\n",
    "for user_id, interest in interests:\n",
    "    user_ids_by_interest[interest].append(user_id)\n",
    "    \n",
    "\n",
    "    \n",
    "# índice de usuários para interesses:\n",
    "# as chaves são user_ids, os valoes são listas de intereesses do user_id em questão\n",
    "interests_by_user_id = defaultdict(list)\n",
    "\n",
    "for user_id, interest in interests:\n",
    "    interests_by_user_id[user_id].append(interest)\n",
    "    \n",
    "# Agora é fácil determinar quem tem mais interesses em comum com um usuário específico:\n",
    "# 1- faça iteração dos interesses do usuário;\n",
    "# 2- Para cada interesse, faça a iteração dos outros usuários com o mesmo interesse;\n",
    "# 3- Conte quantsa vezes cada usuário aparece.\n",
    "\n",
    "def most_common_interests_with(user):\n",
    "    return Counter(\n",
    "    interested_user_id\n",
    "    for interest in interests_by_user_id[user[\"id\"]]\n",
    "    for interested_user_id in user_ids_by_interest[interest]\n",
    "    if interested_user_id != user[\"id\"]\n",
    "    )"
   ]
  },
  {
   "cell_type": "markdown",
   "id": "a4dee972",
   "metadata": {},
   "source": [
    "# Salários e Experiência"
   ]
  },
  {
   "cell_type": "code",
   "execution_count": 32,
   "id": "6c22414c",
   "metadata": {},
   "outputs": [],
   "source": [
    "# tabela com salário de cada usuário e experiência como cientista de dados, em anos:\n",
    "\n",
    "salaries_and_tenures = [(83000, 8.7), (88000, 8.1), \n",
    "                       (48000, 0.7), (76000, 6),\n",
    "                       (69000, 6.5), (76000, 7.5),\n",
    "                       (60000, 2.5), (83000, 10),\n",
    "                       (48000, 1.9), (63000, 4.2)]\n",
    "\n"
   ]
  },
  {
   "cell_type": "code",
   "execution_count": 39,
   "id": "2c6931b4",
   "metadata": {},
   "outputs": [
    {
     "data": {
      "text/plain": [
       "{8.7: 83000.0,\n",
       " 8.1: 88000.0,\n",
       " 0.7: 48000.0,\n",
       " 6: 76000.0,\n",
       " 6.5: 69000.0,\n",
       " 7.5: 76000.0,\n",
       " 2.5: 60000.0,\n",
       " 10: 83000.0,\n",
       " 1.9: 48000.0,\n",
       " 4.2: 63000.0}"
      ]
     },
     "execution_count": 39,
     "metadata": {},
     "output_type": "execute_result"
    }
   ],
   "source": [
    "# analisar a média salarial por anos de experiência:\n",
    "\n",
    "# As chaves são anos, os valores são listas de salários por anos de experiência.\n",
    "salary_by_tenure = defaultdict(list)\n",
    "\n",
    "for salary, tenure in salaries_and_tenures:\n",
    "    salary_by_tenure[tenure].append(salary)\n",
    "    \n",
    "# As chaves são anos, cada valor é o salário médio associado ao número de anos de experiência\n",
    "average_salary_by_tenure = {\n",
    "    tenure : sum(salaries)/len(salaries)\n",
    "    for tenure, salaries in salary_by_tenure.items()\n",
    "}\n",
    "\n",
    "average_salary_by_tenure"
   ]
  },
  {
   "cell_type": "code",
   "execution_count": 46,
   "id": "59ada281",
   "metadata": {},
   "outputs": [],
   "source": [
    "# buckets(baldes) de experiências:\n",
    "\n",
    "def tenure_bucket(tenure):\n",
    "    if tenure < 2:\n",
    "        return \"menos de 2 anos\"\n",
    "    elif tenure < 5:\n",
    "        return \"entre 2 a 5 anos\"\n",
    "    else: \n",
    "        return \"mais de 5 anos\""
   ]
  },
  {
   "cell_type": "code",
   "execution_count": 47,
   "id": "d92d30ee",
   "metadata": {},
   "outputs": [
    {
     "data": {
      "text/plain": [
       "defaultdict(list,\n",
       "            {'mais de 5 anos': [83000, 88000, 76000, 69000, 76000, 83000],\n",
       "             'menos de 2 anos': [48000, 48000],\n",
       "             'entre 2 a 5 anos': [60000, 63000]})"
      ]
     },
     "execution_count": 47,
     "metadata": {},
     "output_type": "execute_result"
    }
   ],
   "source": [
    "# Agrupando os salários correspondentes a cada bucket(balde)\n",
    "\n",
    "# AS chaves são buckets de anos de experiência, os valores são as listas de salários associadas ao bucket em questão.\n",
    "\n",
    "salary_by_tenure_bucket = defaultdict(list)\n",
    "\n",
    "for salary, tenure in salaries_and_tenures:\n",
    "    bucket = tenure_bucket(tenure)\n",
    "    salary_by_tenure_bucket[bucket].append(salary)\n",
    "    \n",
    "    \n",
    "salary_by_tenure_bucket "
   ]
  },
  {
   "cell_type": "code",
   "execution_count": 48,
   "id": "68b47824",
   "metadata": {},
   "outputs": [
    {
     "data": {
      "text/plain": [
       "{'mais de 5 anos': 79166.66666666667,\n",
       " 'menos de 2 anos': 48000.0,\n",
       " 'entre 2 a 5 anos': 61500.0}"
      ]
     },
     "execution_count": 48,
     "metadata": {},
     "output_type": "execute_result"
    }
   ],
   "source": [
    "# média salarial de cada grupo\n",
    "\n",
    "average_salary_by_bucket = {\n",
    "    tenure_bucket: sum(salaries)/len(salaries)\n",
    "    for tenure_bucket, salaries in salary_by_tenure_bucket.items()\n",
    "}\n",
    "\n",
    "average_salary_by_bucket"
   ]
  },
  {
   "cell_type": "markdown",
   "id": "cabc8a9f",
   "metadata": {},
   "source": [
    "# "
   ]
  },
  {
   "cell_type": "markdown",
   "id": "f2aa79fd",
   "metadata": {},
   "source": [
    "# Contas Pagas"
   ]
  },
  {
   "cell_type": "code",
   "execution_count": 61,
   "id": "22572eb0",
   "metadata": {},
   "outputs": [],
   "source": [
    "# tabela de anos de experiência e contas pagas \n",
    "\n",
    "tenure_paid = [(0.7, \"paid\"), (1.9, \"unpaid\"),\n",
    "              (2.5, \"paid\"), (4.2, \"unpaid\"),\n",
    "              (6.0, \"unpaid\"), (6.5, \"unpaid\"),\n",
    "              (7.5, \"unpaid\"), (8.1, \"unpaid\"),\n",
    "              (8.7, \"paid\"), (10.0, \"paid\")]\n",
    "\n",
    "\n",
    "anos = [0.7, 1.9, 2.5, 4.2, 6.0, 6.5, 7.5, 8.1, 8.7, 10.0]"
   ]
  },
  {
   "cell_type": "code",
   "execution_count": 66,
   "id": "f123f8f9",
   "metadata": {},
   "outputs": [
    {
     "name": "stdout",
     "output_type": "stream",
     "text": [
      "paid\n",
      "paid\n",
      "paid\n",
      "unpaid\n",
      "unpaid\n",
      "unpaid\n",
      "unpaid\n",
      "unpaid\n",
      "paid\n",
      "paid\n"
     ]
    }
   ],
   "source": [
    "def predict_paid_or_unpaid(years_experience):\n",
    "    if years_experience < 3.0:\n",
    "        return \"paid\"\n",
    "    elif years_experience < 8.5:\n",
    "        return \"unpaid\"\n",
    "    else:\n",
    "        return \"paid\"\n",
    "    \n",
    "    \n",
    "for i in anos:\n",
    "    print(predict_paid_or_unpaid(i))\n",
    "    \n",
    "    \n",
    "    \n",
    "# podemos construir um modelo para prever a probabilidade de pagamento com base nos anos de experiência."
   ]
  },
  {
   "cell_type": "markdown",
   "id": "84bfdb70",
   "metadata": {},
   "source": [
    "# Tópicos de Interesse"
   ]
  },
  {
   "cell_type": "code",
   "execution_count": 68,
   "id": "e0cd21ba",
   "metadata": {},
   "outputs": [],
   "source": [
    "interests = [\n",
    "    (0, \"Hadoop\"), (0, \"Big Data\"), (0, \"HBase\"), (0, \"Java\"),\n",
    "    (0, \"Spark\"), (0, \"Storm\"), (0, \"Cassandra\"),\n",
    "    (1, \"NoSQL\"), (1, \"MongoDB\"), (1, \"Cassandra\"), (1, \"HBase\"),\n",
    "    (1, \"Postgres\"), (2, \"Python\"), (2, \"scikit-learn\"), (2, \"scipy\"),\n",
    "    (2, \"numpy\"), (2, \"statsmodels\"), (2, \"pandas\"), (3, \"R\"), (3, \"Python\"),\n",
    "    (3, \"Statistics\"), (3, \"regression\"), (3, \"probability\"),\n",
    "    (4, \"machine learning\"), (4, \"regression\"), (4, \"decision trees\"),\n",
    "    (4, \"libsvm\"), (5, \"Python\"), (5, \"R\"), (5, \"Java\"), (5, \"C++\"),\n",
    "    (5, \"Haskell\"), (5, \"programming languages\"), (6, \"statistics\"),\n",
    "    (6, \"probability\"), (6, \"mathematics\"), (6, \"theory\"),\n",
    "    (7, \"machine learning\"), (7, \"scikit-learn\"), (7, \"Mahout\"),\n",
    "    (7, \"neural networks\"), (8, \"neural networks\"), (8, \"deep learning\"),\n",
    "    (8, \"Big Data\"), (8, \"artificial intelligence\"), (9, \"Hadoop\"),\n",
    "    (9, \"Java\"), (9, \"MapReduce\"), (9, \"Big Data\")\n",
    "]\n"
   ]
  },
  {
   "cell_type": "code",
   "execution_count": 74,
   "id": "00ab45e0",
   "metadata": {},
   "outputs": [
    {
     "data": {
      "text/plain": [
       "Counter({'big': 3,\n",
       "         'data': 3,\n",
       "         'java': 3,\n",
       "         'python': 3,\n",
       "         'learning': 3,\n",
       "         'hadoop': 2,\n",
       "         'hbase': 2,\n",
       "         'cassandra': 2,\n",
       "         'scikit-learn': 2,\n",
       "         'r': 2,\n",
       "         'statistics': 2,\n",
       "         'regression': 2,\n",
       "         'probability': 2,\n",
       "         'machine': 2,\n",
       "         'neural': 2,\n",
       "         'networks': 2,\n",
       "         'spark': 1,\n",
       "         'storm': 1,\n",
       "         'nosql': 1,\n",
       "         'mongodb': 1,\n",
       "         'postgres': 1,\n",
       "         'scipy': 1,\n",
       "         'numpy': 1,\n",
       "         'statsmodels': 1,\n",
       "         'pandas': 1,\n",
       "         'decision': 1,\n",
       "         'trees': 1,\n",
       "         'libsvm': 1,\n",
       "         'c++': 1,\n",
       "         'haskell': 1,\n",
       "         'programming': 1,\n",
       "         'languages': 1,\n",
       "         'mathematics': 1,\n",
       "         'theory': 1,\n",
       "         'mahout': 1,\n",
       "         'deep': 1,\n",
       "         'artificial': 1,\n",
       "         'intelligence': 1,\n",
       "         'mapreduce': 1})"
      ]
     },
     "execution_count": 74,
     "metadata": {},
     "output_type": "execute_result"
    }
   ],
   "source": [
    "# Encontrar os interesses mais populares:\n",
    "# Conte as palavras.\n",
    "\n",
    "# 1- Escreva os interesses em letras minúsculas;\n",
    "# 2- Divida-os em palavras;\n",
    "# 3- Conte os resultados.\n",
    "\n",
    "palavras_contadas = Counter(word\n",
    "                            for user, interest in interests\n",
    "                           for word in interest.lower().split())\n",
    "\n",
    "# esse comando lista as ocorrencias das palavras\n",
    "palavras_contadas"
   ]
  },
  {
   "cell_type": "code",
   "execution_count": 75,
   "id": "3b5189a3",
   "metadata": {},
   "outputs": [
    {
     "name": "stdout",
     "output_type": "stream",
     "text": [
      "big 3\n",
      "data 3\n",
      "java 3\n",
      "python 3\n",
      "learning 3\n",
      "hadoop 2\n",
      "hbase 2\n",
      "cassandra 2\n",
      "scikit-learn 2\n",
      "r 2\n",
      "statistics 2\n",
      "regression 2\n",
      "probability 2\n",
      "machine 2\n",
      "neural 2\n",
      "networks 2\n"
     ]
    }
   ],
   "source": [
    "for word, count in palavras_contadas.most_common():\n",
    "    if count > 1:\n",
    "        print(word, count)\n",
    "\n",
    "# lista as palavras mais populares"
   ]
  },
  {
   "cell_type": "code",
   "execution_count": null,
   "id": "ae4c73e3",
   "metadata": {},
   "outputs": [],
   "source": []
  }
 ],
 "metadata": {
  "kernelspec": {
   "display_name": "Python 3 (ipykernel)",
   "language": "python",
   "name": "python3"
  },
  "language_info": {
   "codemirror_mode": {
    "name": "ipython",
    "version": 3
   },
   "file_extension": ".py",
   "mimetype": "text/x-python",
   "name": "python",
   "nbconvert_exporter": "python",
   "pygments_lexer": "ipython3",
   "version": "3.11.5"
  }
 },
 "nbformat": 4,
 "nbformat_minor": 5
}
