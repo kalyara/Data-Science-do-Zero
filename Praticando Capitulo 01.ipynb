{
 "cells": [
  {
   "cell_type": "markdown",
   "id": "a8829647-5f27-4087-bd55-29ff5d742769",
   "metadata": {},
   "source": [
    "# Motivação Hipotética: DataSciencester\n",
    "\n",
    "### Encontrando Conectores-Chave"
   ]
  },
  {
   "cell_type": "code",
   "execution_count": 4,
   "id": "a96ea114-ec11-43dd-9b06-3129b6e95522",
   "metadata": {},
   "outputs": [],
   "source": [
    "nomes =[\n",
    "    {\"id\": 0, \"name\": \"Maria\"},\n",
    "    {\"id\": 1, \"name\": \"João\"},\n",
    "    {\"id\": 2, \"name\": \"Pedro\"},\n",
    "    {\"id\": 3, \"name\": \"Gabriela\"},\n",
    "    {\"id\": 4, \"name\": \"Thiago\"},\n",
    "    {\"id\": 5, \"name\": \"José\"},\n",
    "    {\"id\": 6, \"name\": \"Katarina\"},\n",
    "    {\"id\": 7, \"name\": \"Helena\"},\n",
    "    {\"id\": 8, \"name\": \"Davi\"},\n",
    "]"
   ]
  },
  {
   "cell_type": "code",
   "execution_count": 5,
   "id": "b5071491-a8b0-49e5-8f84-b63cea7c5700",
   "metadata": {},
   "outputs": [],
   "source": [
    "par_amigos = [(0, 3), (0, 6), (1, 2), (1, 4), (2, 6), (3, 8), (4, 1), (5, 6)]"
   ]
  },
  {
   "cell_type": "code",
   "execution_count": 6,
   "id": "1c711511-bffd-4bb2-8745-ac8223dfaf69",
   "metadata": {},
   "outputs": [],
   "source": [
    "# Inicialize  uma lista vazia para cada id da tabela dos nomes:\n",
    "amigos = {nome[\"id\"]: [] for nome in nomes}"
   ]
  },
  {
   "cell_type": "code",
   "execution_count": 7,
   "id": "930af5e6-6600-4d50-b618-dd18189704f1",
   "metadata": {},
   "outputs": [],
   "source": [
    "# Em seguida, execute um loop pelos pares de amigos para preenchê-la:\n",
    "for i, j in par_amigos:\n",
    "    amigos[i].append(j) # adicione j como amigo do usuário i\n",
    "    amigos[j].append(i) # adicione i como amigo do usuário j"
   ]
  },
  {
   "cell_type": "code",
   "execution_count": 8,
   "id": "562818df-585c-4e33-960e-f07300bd08a3",
   "metadata": {},
   "outputs": [
    {
     "data": {
      "text/plain": [
       "16"
      ]
     },
     "execution_count": 8,
     "metadata": {},
     "output_type": "execute_result"
    }
   ],
   "source": [
    "def numero_de_amigos(nome):\n",
    "    # Quantos amigos tem cada pessoa?\n",
    "    nome_id = nome[\"id\"]\n",
    "    amigo_ids = amigos[nome_id]\n",
    "    return len(amigo_ids)\n",
    "\n",
    "total_relacionamentos = sum(numero_de_amigos(nome) for nome in nomes)\n",
    "total_relacionamentos"
   ]
  },
  {
   "cell_type": "code",
   "execution_count": 9,
   "id": "a9af80b8-c972-483c-ab6c-d3ebb2d5600e",
   "metadata": {},
   "outputs": [
    {
     "data": {
      "text/plain": [
       "1.7777777777777777"
      ]
     },
     "execution_count": 9,
     "metadata": {},
     "output_type": "execute_result"
    }
   ],
   "source": [
    "num_pessoas = len(nomes) # tamanho da lista de usuários\n",
    "media_relacionamentos = total_relacionamentos/num_pessoas \n",
    "media_relacionamentos"
   ]
  },
  {
   "cell_type": "code",
   "execution_count": 10,
   "id": "510c63ea-7f7c-4c35-87cb-5999a08caaa5",
   "metadata": {},
   "outputs": [
    {
     "data": {
      "text/plain": [
       "[(1, 3), (6, 3), (0, 2), (2, 2), (3, 2), (4, 2), (5, 1), (8, 1), (7, 0)]"
      ]
     },
     "execution_count": 10,
     "metadata": {},
     "output_type": "execute_result"
    }
   ],
   "source": [
    "# Crie uma lista (nome_id, numero_de_amigos).\n",
    "num_amigos_id = [(nome[\"id\"], numero_de_amigos(nome)) for nome in nomes]\n",
    "\n",
    "num_amigos_id.sort(\n",
    "key=lambda id_e_amigos: id_e_amigos[1],\n",
    "reverse = True) # classifica a lista por número de amigos, do maior para o menor\n",
    "\n",
    "num_amigos_id # métrica de centralidade de grau: identifica as pessoas que são centrais para a rede"
   ]
  },
  {
   "cell_type": "markdown",
   "id": "e1149e41-a282-4ee1-92fb-58a099959a0d",
   "metadata": {},
   "source": [
    "# Cientistas de dados que você talvez conheça\n",
    "\n",
    "### Os usuários podem conhecer os amigos dos seus amigos. Código para iterar os amigos e coletar os amigos dos amigos:"
   ]
  },
  {
   "cell_type": "code",
   "execution_count": 12,
   "id": "c4794842-5bfa-4ae9-857a-92bfad9bfd0a",
   "metadata": {},
   "outputs": [
    {
     "data": {
      "text/plain": [
       "[0, 8, 0, 2, 5]"
      ]
     },
     "execution_count": 12,
     "metadata": {},
     "output_type": "execute_result"
    }
   ],
   "source": [
    "def ids_amigo_de_um_amigo(nome):\n",
    "    # foaf significa \"friend of a friend\" (amigo de um amigos)\n",
    "    return [amigo_de_um_amigo_id\n",
    "           for amigo_id in amigos[nome[\"id\"]]\n",
    "           for amigo_de_um_amigo_id in amigos[amigo_id]]\n",
    "\n",
    "ids_amigo_de_um_amigo(nomes[0]) "
   ]
  },
  {
   "cell_type": "code",
   "execution_count": 13,
   "id": "1c3166ea-44f6-4db3-a75b-2a5d2e8d2723",
   "metadata": {},
   "outputs": [
    {
     "name": "stdout",
     "output_type": "stream",
     "text": [
      "[3, 6]\n",
      "[2, 4, 4]\n",
      "[1, 6]\n"
     ]
    }
   ],
   "source": [
    "print(amigos[0])\n",
    "print(amigos[1])\n",
    "print(amigos[2])"
   ]
  },
  {
   "cell_type": "markdown",
   "id": "150c64fd-df12-4b88-a64b-088fc56ecb53",
   "metadata": {},
   "source": [
    "### Gerar uma contagem de amigos em comum, porém excluindo as pessoas que a pessoa já conhece:"
   ]
  },
  {
   "cell_type": "code",
   "execution_count": 20,
   "id": "42aa1901-3584-4709-8b1a-e863c0359958",
   "metadata": {},
   "outputs": [
    {
     "name": "stdout",
     "output_type": "stream",
     "text": [
      "Counter({6: 1})\n",
      "Counter({4: 2, 0: 1, 5: 1})\n"
     ]
    }
   ],
   "source": [
    "from collections import Counter # não é carregado por padrão\n",
    "\n",
    "def amigos_de_amigos(nome):\n",
    "    nome_id = nome[\"id\"]\n",
    "    return Counter(\n",
    "        amigo_de_um_amigo_id\n",
    "        for amigo_id in amigos[nome_id]\n",
    "        for amigo_de_um_amigo_id in amigos[amigo_id]\n",
    "        if amigo_de_um_amigo_id != nome_id\n",
    "        and amigo_de_um_amigo_id not in amigos[nome_id]\n",
    "    )\n",
    "\n",
    "# para cada amigo meu, encontre os amigos deles que não sejam eu e não sejam meus amigos.\n",
    "\n",
    "print(amigos_de_amigos(nomes[3]))\n",
    "# essa operação informa que a Gabriela (id 3) possui um amigo em comum com a Katarina (id 6).\n",
    "\n",
    "print(amigos_de_amigos(nomes[2]))\n",
    "# essa operação informa que o Pedro (id 2) possui 2 amigos em comum com o Thiago (id 4), um amigo em comum com a Maria (id 0), e um amigo em comum com\n",
    "# o José (id 5)"
   ]
  },
  {
   "cell_type": "markdown",
   "id": "73e161c2-a3a7-4d33-bf5b-7b833155d6bc",
   "metadata": {},
   "source": [
    "## Encontrar pessoas com interesses similares"
   ]
  },
  {
   "cell_type": "code",
   "execution_count": null,
   "id": "3d05640e-b49e-4753-817b-3f3da36f887f",
   "metadata": {},
   "outputs": [],
   "source": [
    "interesses = [\n",
    "    (0, \"fisica\"), (0, \"quimica\"), (0, \"matematica\"), (1, \"artes\"),\n",
    "    (1, \"historia\"), (1, \"Geografia\"), (1, \"educacao fisica\"),\n",
    "    (1, \"portugues\"), (1, \"biologia\"), (2, \"geografia\"), (2, \"artes\"),\n",
    "    (2, \"educacao fisica\"), (2, \"ingles\"), (2, \"portugues\"), (3, \"ingles\"),\n",
    "    (3, \"historia\"), (3, \"artes\"), (3, \"educacao fisica\"), (3, \"geografia\"), (4, \"matematica\"),\n",
    "    (4, \"Statistics\"), (3, \"regression\"), (3, \"probability\"),\n",
    "    (4, \"portugues\"), (4, \"artes\"), (4, \"biologia\"),\n",
    "    (4, \"historia\"), (5, \"biologia\"), (5, \"historia\"), (6, \"matematica\"),\n",
    "    (7, \"ingles\"), (7, \"geografia\"), (7, \"historia\"), (8, \"quimica\"), (8, \"biologia\"),\n",
    "    (8, \"educacao fisica\"), (8, \"historia\")\n",
    "]\n",
    "\n"
   ]
  },
  {
   "cell_type": "code",
   "execution_count": 22,
   "id": "c8123a02-3801-47e9-9f10-f042c86f7b88",
   "metadata": {},
   "outputs": [],
   "source": [
    "# função para encontrar usuários com o mesmo interesse\n",
    "def interesses_disciplinas(alvo_interesse):\n",
    "    # encontre os ids dos usuários com o mesmo interesse.\n",
    "    return[nome_id\n",
    "          for nome_id, nome_interesse in interesses\n",
    "          if nome_interesse == alvo_interesse]\n",
    "\n",
    "\n",
    "# A operação funciona, porém tem que examinar a lista de interesses inteira a cada busca"
   ]
  },
  {
   "cell_type": "code",
   "execution_count": 30,
   "id": "cacc4f7e-c440-484e-8723-f785e861536a",
   "metadata": {},
   "outputs": [
    {
     "data": {
      "text/plain": [
       "defaultdict(list,\n",
       "            {0: ['fisica', 'quimica', 'matematica'],\n",
       "             1: ['artes',\n",
       "              'historia',\n",
       "              'Geografia',\n",
       "              'educacao fisica',\n",
       "              'portugues',\n",
       "              'biologia'],\n",
       "             2: ['geografia',\n",
       "              'artes',\n",
       "              'educacao fisica',\n",
       "              'ingles',\n",
       "              'portugues'],\n",
       "             3: ['ingles',\n",
       "              'historia',\n",
       "              'artes',\n",
       "              'educacao fisica',\n",
       "              'geografia',\n",
       "              'regression',\n",
       "              'probability'],\n",
       "             4: ['matematica',\n",
       "              'Statistics',\n",
       "              'portugues',\n",
       "              'artes',\n",
       "              'biologia',\n",
       "              'historia'],\n",
       "             5: ['biologia', 'historia'],\n",
       "             6: ['matematica'],\n",
       "             7: ['ingles', 'geografia', 'historia'],\n",
       "             8: ['quimica', 'biologia', 'educacao fisica', 'historia']})"
      ]
     },
     "execution_count": 30,
     "metadata": {},
     "output_type": "execute_result"
    }
   ],
   "source": [
    "from collections import defaultdict\n",
    "\n",
    "# código que pega o interesse e associa a um id \n",
    "id_pessoas_por_interesse = defaultdict(list)\n",
    "\n",
    "for nome_id, interesse in interesses:\n",
    "    id_pessoas_por_interesse[interesse].append(nome_id)\n",
    "\n",
    "\n",
    "# código que pega o id da pessoa e associa a um interesse\n",
    "interesses_por_id_pesssoas = defaultdict(list)\n",
    "\n",
    "for nome_id, interesse in interesses:\n",
    "    interesses_por_id_pesssoas[nome_id].append(interesse)\n",
    "    \n",
    "\n",
    "# id da pessoa e associa a um interesse\n",
    "interesses_por_id_pesssoas"
   ]
  },
  {
   "cell_type": "code",
   "execution_count": 34,
   "id": "4aa73c39-0802-495d-91e2-8a93948b931e",
   "metadata": {},
   "outputs": [],
   "source": [
    "# determinar quem tem mais interesses em comum com um usuário específico:\n",
    "\n",
    "def top_interesses(nome):\n",
    "    return Counter(\n",
    "    interessado_id\n",
    "    for interesse in interesses_por_id_pesssoas[nome[\"id\"]]\n",
    "    for interesses_por_id_pesssoas in id_pessoas_por_interesse[interesse]\n",
    "    if interessado_id != nome[\"id\"]\n",
    "    )\n",
    "\n"
   ]
  },
  {
   "cell_type": "markdown",
   "id": "d2d2c587-4bda-4ebc-975a-84d37012a5ba",
   "metadata": {},
   "source": [
    "# Salários e Experiências"
   ]
  },
  {
   "cell_type": "code",
   "execution_count": 40,
   "id": "452cafb4-34cc-46a8-8714-cd4a3d47900c",
   "metadata": {},
   "outputs": [],
   "source": [
    "# tabela com salário de cada pessoa e experiência como professor, em anos:\n",
    "\n",
    "salarios_e_experiencias = [(24000, 8.7), (50000, 8.1), \n",
    "                       (1200, 0.7), (5000, 6),\n",
    "                       (7500, 6.5), (76000, 7.5),\n",
    "                       (6000, 2.5), (20000, 10),\n",
    "                       (1200, 1.9), (6300, 4.2)]"
   ]
  },
  {
   "cell_type": "code",
   "execution_count": 41,
   "id": "8811c777-92e4-4148-ac59-5fab23339ea0",
   "metadata": {},
   "outputs": [
    {
     "data": {
      "text/plain": [
       "{8.7: 24000.0,\n",
       " 8.1: 50000.0,\n",
       " 0.7: 1200.0,\n",
       " 6: 5000.0,\n",
       " 6.5: 7500.0,\n",
       " 7.5: 76000.0,\n",
       " 2.5: 6000.0,\n",
       " 10: 20000.0,\n",
       " 1.9: 1200.0,\n",
       " 4.2: 6300.0}"
      ]
     },
     "execution_count": 41,
     "metadata": {},
     "output_type": "execute_result"
    }
   ],
   "source": [
    "# analisar a média salarial por anos de experiência:\n",
    "\n",
    "# os valores são listas de salários por anos de experiência.\n",
    "salario_por_experiencia = defaultdict(list)\n",
    "\n",
    "for salario, experiencia in salarios_e_experiencias:\n",
    "    salario_por_experiencia[experiencia].append(salario)\n",
    "    \n",
    "# cada valor é o salário médio associado ao número de anos de experiência\n",
    "salario_medio_por_experiencia = {\n",
    "    experiencia : sum(salario)/len(salario)\n",
    "    for experiencia, salario in salario_por_experiencia.items()\n",
    "}\n",
    "\n",
    "salario_medio_por_experiencia"
   ]
  },
  {
   "cell_type": "code",
   "execution_count": 42,
   "id": "1f80a0b6-5a78-4163-a896-09400d48f3ef",
   "metadata": {},
   "outputs": [],
   "source": [
    "# agrupando \n",
    "\n",
    "def experiencia_grupos(experiencia):\n",
    "    if experiencia < 2:\n",
    "        return \"menos de 2 anos\"\n",
    "    elif experiencia < 5:\n",
    "        return \"entre 2 a 5 anos\"\n",
    "    else: \n",
    "        return \"mais de 5 anos\""
   ]
  },
  {
   "cell_type": "code",
   "execution_count": 43,
   "id": "0e31a57e-8def-4928-b3bc-ed92f27331ec",
   "metadata": {},
   "outputs": [
    {
     "data": {
      "text/plain": [
       "defaultdict(list,\n",
       "            {'mais de 5 anos': [24000, 50000, 5000, 7500, 76000, 20000],\n",
       "             'menos de 2 anos': [1200, 1200],\n",
       "             'entre 2 a 5 anos': [6000, 6300]})"
      ]
     },
     "execution_count": 43,
     "metadata": {},
     "output_type": "execute_result"
    }
   ],
   "source": [
    "# Agrupando os salários\n",
    "\n",
    "\n",
    "grupos_salarios_experiencia = defaultdict(list)\n",
    "\n",
    "for salario, experiencia in salarios_e_experiencias:\n",
    "    grupos = experiencia_grupos(experiencia)\n",
    "    grupos_salarios_experiencia[grupos].append(salario)\n",
    "    \n",
    "    \n",
    "grupos_salarios_experiencia"
   ]
  },
  {
   "cell_type": "code",
   "execution_count": 45,
   "id": "5b3ee986-f6b1-439d-90ba-efdc8c4d7ffc",
   "metadata": {},
   "outputs": [
    {
     "data": {
      "text/plain": [
       "{'mais de 5 anos': 30416.666666666668,\n",
       " 'menos de 2 anos': 1200.0,\n",
       " 'entre 2 a 5 anos': 6150.0}"
      ]
     },
     "execution_count": 45,
     "metadata": {},
     "output_type": "execute_result"
    }
   ],
   "source": [
    "# média salarial de cada grupo\n",
    "\n",
    "media_salarial_de_cada_grupo = {\n",
    "    media_salario: sum(salarios)/len(salarios)\n",
    "    for media_salario, salarios in grupos_salarios_experiencia.items()\n",
    "}\n",
    "\n",
    "media_salarial_de_cada_grupo"
   ]
  },
  {
   "cell_type": "markdown",
   "id": "9f39ef74-7419-44df-b6d1-b3bb12891fcd",
   "metadata": {},
   "source": [
    "# Contas Pagas"
   ]
  },
  {
   "cell_type": "code",
   "execution_count": null,
   "id": "9cc6a706-1d08-430a-ad51-1d77602f6dde",
   "metadata": {},
   "outputs": [],
   "source": [
    "# tabela de anos de experiência e contas pagas \n",
    "\n",
    "experiencia_pagamento = [(0.7, \"paid\"), (1.9, \"unpaid\"),\n",
    "              (2.5, \"paid\"), (4.2, \"unpaid\"),\n",
    "              (6.0, \"unpaid\"), (6.5, \"unpaid\"),\n",
    "              (7.5, \"unpaid\"), (8.1, \"unpaid\"),\n",
    "              (8.7, \"paid\"), (10.0, \"paid\")]\n",
    "\n",
    "\n",
    "anos = [0.7, 1.9, 2.5, 4.2, 6.0, 6.5, 7.5, 8.1, 8.7, 10.0]"
   ]
  }
 ],
 "metadata": {
  "kernelspec": {
   "display_name": "Python 3 (ipykernel)",
   "language": "python",
   "name": "python3"
  },
  "language_info": {
   "codemirror_mode": {
    "name": "ipython",
    "version": 3
   },
   "file_extension": ".py",
   "mimetype": "text/x-python",
   "name": "python",
   "nbconvert_exporter": "python",
   "pygments_lexer": "ipython3",
   "version": "3.12.1"
  }
 },
 "nbformat": 4,
 "nbformat_minor": 5
}
