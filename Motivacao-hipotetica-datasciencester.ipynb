{
 "cells": [
  {
   "cell_type": "code",
   "execution_count": 1,
   "id": "d49e0aa1",
   "metadata": {},
   "outputs": [],
   "source": [
    "users =[\n",
    "    {\"id\": 0, \"name\": \"Hero\"},\n",
    "    {\"id\": 1, \"name\": \"Dunn\"},\n",
    "    {\"id\": 2, \"name\": \"Sue\"},\n",
    "    {\"id\": 3, \"name\": \"Chi\"},\n",
    "    {\"id\": 4, \"name\": \"Thor\"},\n",
    "    {\"id\": 5, \"name\": \"Clive\"},\n",
    "    {\"id\": 6, \"name\": \"Hicks\"},\n",
    "    {\"id\": 7, \"name\": \"Devin\"},\n",
    "    {\"id\": 8, \"name\": \"Kate\"},\n",
    "    {\"id\": 9, \"name\": \"Klein\"},\n",
    "]"
   ]
  },
  {
   "cell_type": "code",
   "execution_count": 2,
   "id": "12b550bd",
   "metadata": {},
   "outputs": [],
   "source": [
    "friendship_pairs = [(0, 1), (0, 2), (1, 2), (1, 3), (2, 3), (3, 4), (4, 5), (5, 6), (5, 7), (6, 8), (7, 8), (8, 9)]"
   ]
  },
  {
   "cell_type": "code",
   "execution_count": 4,
   "id": "5440462e",
   "metadata": {},
   "outputs": [],
   "source": [
    "# Inicialize o dict com uma lista vazia para cada id de usuário:\n",
    "friendships = {user[\"id\"]: [] for user in users}"
   ]
  },
  {
   "cell_type": "code",
   "execution_count": 5,
   "id": "e08eba0c",
   "metadata": {},
   "outputs": [],
   "source": [
    "# Em seguida, execute um loop pelos pares de amigos para preenchê-la:\n",
    "for i, j in friendship_pairs:\n",
    "    friendships[i].append(j) # adicione j como amigo do usuário i\n",
    "    friendships[j].append(i) # adicione i como amigo do usuário j"
   ]
  },
  {
   "cell_type": "code",
   "execution_count": 12,
   "id": "22796da1",
   "metadata": {},
   "outputs": [
    {
     "data": {
      "text/plain": [
       "24"
      ]
     },
     "execution_count": 12,
     "metadata": {},
     "output_type": "execute_result"
    }
   ],
   "source": [
    "def number_of_friends(user):\n",
    "    # Quantos amigos tem o _user_?\n",
    "    user_id = user[\"id\"]\n",
    "    friend_ids = friendships[user_id]\n",
    "    return len(friend_ids)\n",
    "\n",
    "total_connections = sum(number_of_friends(user) for user in users)\n",
    "total_connections "
   ]
  },
  {
   "cell_type": "code",
   "execution_count": 16,
   "id": "9f9190d3",
   "metadata": {},
   "outputs": [],
   "source": [
    "num_users = len(users) # tamanho da lista de usuários\n",
    "avg_connections = total_connections/num_users \n",
    "avg_connections"
   ]
  },
  {
   "cell_type": "code",
   "execution_count": 18,
   "id": "6ca9696f",
   "metadata": {},
   "outputs": [
    {
     "data": {
      "text/plain": [
       "[(1, 3),\n",
       " (2, 3),\n",
       " (3, 3),\n",
       " (5, 3),\n",
       " (8, 3),\n",
       " (0, 2),\n",
       " (4, 2),\n",
       " (6, 2),\n",
       " (7, 2),\n",
       " (9, 1)]"
      ]
     },
     "execution_count": 18,
     "metadata": {},
     "output_type": "execute_result"
    }
   ],
   "source": [
    "# Crie uma lista (user_id, number_of_friends).\n",
    "num_friends_by_id = [(user[\"id\"], number_of_friends(user)) for user in users]\n",
    "\n",
    "num_friends_by_id.sort(\n",
    "key=lambda id_and_friends: id_and_friends[1],\n",
    "reverse = True) # classifica a lista por número de amigos, do maior para o menor\n",
    "\n",
    "num_friends_by_id # métrica de centralidade de grau: identifica as pessoas que são centrais para a rede"
   ]
  },
  {
   "cell_type": "markdown",
   "id": "f838c588",
   "metadata": {},
   "source": [
    "Desenvolver um sugestor do tipo \"Cientistas de dados que você talvez conheça\"\n",
    "Os usuários podem conhecer os amigos dos seus amigos. Código para iterar os amigos e coletar os amigos dos amigos:"
   ]
  },
  {
   "cell_type": "code",
   "execution_count": 26,
   "id": "9f2f6e15",
   "metadata": {},
   "outputs": [
    {
     "data": {
      "text/plain": [
       "[0, 2, 3, 0, 1, 3]"
      ]
     },
     "execution_count": 26,
     "metadata": {},
     "output_type": "execute_result"
    }
   ],
   "source": [
    "def foaf_ids_bad(user):\n",
    "    # foaf significa \"friend of a friend\" (amigo de um amigos)\n",
    "    return [foaf_id\n",
    "           for friend_id in friendships[user[\"id\"]]\n",
    "           for foaf_id in friendships[friend_id]]\n",
    "\n",
    "foaf_ids_bad(users[0]) "
   ]
  },
  {
   "cell_type": "markdown",
   "id": "9ac0b868",
   "metadata": {},
   "source": [
    "O resultado traz o usuário 0 duas vezes, pois o id 0 é amigo dos seus amigos. Também traz os usuários 1 e 2, apesar de eles já serem amigos do id 0. E traz o usuário id 3 duas vezes, pois id 3  é acessível por meio de dois amigos:"
   ]
  },
  {
   "cell_type": "code",
   "execution_count": 27,
   "id": "008af567",
   "metadata": {},
   "outputs": [
    {
     "name": "stdout",
     "output_type": "stream",
     "text": [
      "[1, 2]\n",
      "[0, 2, 3]\n",
      "[0, 1, 3]\n"
     ]
    }
   ],
   "source": [
    "print(friendships[0])\n",
    "print(friendships[1])\n",
    "print(friendships[2])"
   ]
  },
  {
   "cell_type": "markdown",
   "id": "c8e7f0c3",
   "metadata": {},
   "source": [
    "Gerar uma contagem de amigos em comum, porém excluindo as pessoas que o usuário já conhece:"
   ]
  },
  {
   "cell_type": "code",
   "execution_count": 30,
   "id": "ab10fb1c",
   "metadata": {},
   "outputs": [
    {
     "name": "stdout",
     "output_type": "stream",
     "text": [
      "Counter({0: 2, 5: 1})\n",
      "Counter({7: 2, 4: 1, 9: 1})\n"
     ]
    }
   ],
   "source": [
    "from collections import Counter # não é carregado por padrão\n",
    "\n",
    "def friends_of_friends(user):\n",
    "    user_id = user[\"id\"]\n",
    "    return Counter(\n",
    "        foaf_id\n",
    "        for friend_id in friendships[user_id]\n",
    "        for foaf_id in friendships[friend_id]\n",
    "        if foaf_id != user_id\n",
    "        and foaf_id not in friendships[user_id]\n",
    "    )\n",
    "\n",
    "# para cada amigo meu, encontre os amigos deles que não sejam eu e não sejam meus amigos.\n",
    "\n",
    "print(friends_of_friends(users[3]))\n",
    "\n",
    "# essa operação informa corretamente a Chi (id 3) que ela possui dois amigos em comum com Hero (id 0 ), mas só um amigo em comum\n",
    "# com Clive (id 5)\n",
    "\n",
    "# outro exemplo\n",
    "# usuário Clive (id 6)\n",
    "print(friends_of_friends(users[6]))\n",
    "# o usuário 6 não é amigo do usuário 7 porém eles tem dois amigos em comum, o usuário 6 não é amigo do usuário 4 porém eles tem\n",
    "# um amigo em comum, o usuário 6 não é amigo do usuário 9 porém eles tem um amigo em comum"
   ]
  },
  {
   "cell_type": "markdown",
   "id": "f5207445",
   "metadata": {},
   "source": [
    "Encontrar usuários com interesses similares"
   ]
  },
  {
   "cell_type": "code",
   "execution_count": 33,
   "id": "10d782fe",
   "metadata": {},
   "outputs": [],
   "source": [
    "interests = [\n",
    "    (0, \"Hadoop\"), (0, \"Big Data\"), (0, \"HBase\"), (0, \"Java\"),\n",
    "    (0, \"Spark\"), (0, \"Storm\"), (0, \"Cassandra\"),\n",
    "    (1, \"NoSQL\"), (1, \"MongoDB\"), (1, \"Cassandra\"), (1, \"HBase\"),\n",
    "    (1, \"Postgres\"), (2, \"Python\"), (2, \"scikit-learn\"), (2, \"scipy\"),\n",
    "    (2, \"numpy\"), (2, \"statsmodels\"), (2, \"pandas\"), (3, \"R\"), (3, \"Python\"),\n",
    "    (3, \"Statistics\"), (3, \"regression\"), (3, \"probability\"),\n",
    "    (4, \"machine learning\"), (4, \"regression\"), (4, \"decision trees\"),\n",
    "    (4, \"libsvm\"), (5, \"Python\"), (5, \"R\"), (5, \"Java\"), (5, \"C++\"),\n",
    "    (5, \"Haskell\"), (5, \"programming languages\"), (6, \"statistics\"),\n",
    "    (6, \"probability\"), (6, \"mathematics\"), (6, \"theory\"),\n",
    "    (7, \"machine learning\"), (7, \"scikit-learn\"), (7, \"Mahout\"),\n",
    "    (7, \"neural networks\"), (8, \"neural networks\"), (8, \"deep learning\"),\n",
    "    (8, \"Big Data\"), (8, \"artificial intelligence\"), (9, \"Hadoop\"),\n",
    "    (9, \"Java\"), (9, \"MapReduce\"), (9, \"Big Data\")\n",
    "]\n",
    "\n"
   ]
  },
  {
   "cell_type": "code",
   "execution_count": null,
   "id": "80f9e247",
   "metadata": {},
   "outputs": [],
   "source": [
    "# função para encontrar usuários com o mesmo interesse\n",
    "def data_scientists_who_like(target_interest):\n",
    "    # encontre os ids dos usuários com o mesmo interesse.\n",
    "    return[user_id\n",
    "          for user_id, user_interest in interests\n",
    "          if user_interest == target_interest]"
   ]
  }
 ],
 "metadata": {
  "kernelspec": {
   "display_name": "Python 3 (ipykernel)",
   "language": "python",
   "name": "python3"
  },
  "language_info": {
   "codemirror_mode": {
    "name": "ipython",
    "version": 3
   },
   "file_extension": ".py",
   "mimetype": "text/x-python",
   "name": "python",
   "nbconvert_exporter": "python",
   "pygments_lexer": "ipython3",
   "version": "3.11.5"
  }
 },
 "nbformat": 4,
 "nbformat_minor": 5
}
